{
 "cells": [
  {
   "cell_type": "markdown",
   "metadata": {},
   "source": [
    "# A Simple Way to Incorporate Additional Attributes in Your Model\n",
    "在本章中，我们将探讨如何在深度神经网络时间序列预测模型中加入附加属性。\n",
    "## Working with Additional Attributes\n",
    "我们继续来看看第三章介绍的COE数据。首先，导入所需的库，打开保存的csv文件。"
   ]
  },
  {
   "cell_type": "code",
   "execution_count": 1,
   "metadata": {},
   "outputs": [],
   "source": [
    "import numpy as np\n",
    "import pandas as pd\n",
    "loc= \"update_COE.csv\"\n",
    "temp = pd.read_csv(loc)"
   ]
  },
  {
   "cell_type": "code",
   "execution_count": 2,
   "metadata": {},
   "outputs": [
    {
     "data": {
      "text/html": [
       "<div>\n",
       "<style scoped>\n",
       "    .dataframe tbody tr th:only-of-type {\n",
       "        vertical-align: middle;\n",
       "    }\n",
       "\n",
       "    .dataframe tbody tr th {\n",
       "        vertical-align: top;\n",
       "    }\n",
       "\n",
       "    .dataframe thead th {\n",
       "        text-align: right;\n",
       "    }\n",
       "</style>\n",
       "<table border=\"1\" class=\"dataframe\">\n",
       "  <thead>\n",
       "    <tr style=\"text-align: right;\">\n",
       "      <th></th>\n",
       "      <th>Unnamed: 0</th>\n",
       "      <th>DATE</th>\n",
       "      <th>COE$</th>\n",
       "      <th>COE$_1</th>\n",
       "      <th>#Bids</th>\n",
       "      <th>Quota</th>\n",
       "      <th>Open?</th>\n",
       "    </tr>\n",
       "  </thead>\n",
       "  <tbody>\n",
       "    <tr>\n",
       "      <th>0</th>\n",
       "      <td>0</td>\n",
       "      <td>1990-08-01 00:00:00</td>\n",
       "      <td>7400.0</td>\n",
       "      <td>7750.0</td>\n",
       "      <td>656</td>\n",
       "      <td>472</td>\n",
       "      <td>0</td>\n",
       "    </tr>\n",
       "    <tr>\n",
       "      <th>1</th>\n",
       "      <td>1</td>\n",
       "      <td>1990-09-01 00:00:00</td>\n",
       "      <td>11100.0</td>\n",
       "      <td>7400.0</td>\n",
       "      <td>1462</td>\n",
       "      <td>468</td>\n",
       "      <td>0</td>\n",
       "    </tr>\n",
       "    <tr>\n",
       "      <th>2</th>\n",
       "      <td>2</td>\n",
       "      <td>1990-10-01 00:00:00</td>\n",
       "      <td>5002.0</td>\n",
       "      <td>11100.0</td>\n",
       "      <td>633</td>\n",
       "      <td>472</td>\n",
       "      <td>0</td>\n",
       "    </tr>\n",
       "    <tr>\n",
       "      <th>3</th>\n",
       "      <td>3</td>\n",
       "      <td>1990-11-01 00:00:00</td>\n",
       "      <td>3170.0</td>\n",
       "      <td>5002.0</td>\n",
       "      <td>952</td>\n",
       "      <td>511</td>\n",
       "      <td>0</td>\n",
       "    </tr>\n",
       "    <tr>\n",
       "      <th>4</th>\n",
       "      <td>4</td>\n",
       "      <td>1990-12-01 00:00:00</td>\n",
       "      <td>3410.0</td>\n",
       "      <td>3170.0</td>\n",
       "      <td>919</td>\n",
       "      <td>471</td>\n",
       "      <td>0</td>\n",
       "    </tr>\n",
       "  </tbody>\n",
       "</table>\n",
       "</div>"
      ],
      "text/plain": [
       "   Unnamed: 0                 DATE     COE$   COE$_1  #Bids  Quota  Open?\n",
       "0           0  1990-08-01 00:00:00   7400.0   7750.0    656    472      0\n",
       "1           1  1990-09-01 00:00:00  11100.0   7400.0   1462    468      0\n",
       "2           2  1990-10-01 00:00:00   5002.0  11100.0    633    472      0\n",
       "3           3  1990-11-01 00:00:00   3170.0   5002.0    952    511      0\n",
       "4           4  1990-12-01 00:00:00   3410.0   3170.0    919    471      0"
      ]
     },
     "execution_count": 2,
     "metadata": {},
     "output_type": "execute_result"
    }
   ],
   "source": [
    "temp . head ( )"
   ]
  },
  {
   "cell_type": "markdown",
   "metadata": {},
   "source": [
    "数据中有一个额外的索引列，需要删除。我们也不需要日期列，所以我们把它也去掉。"
   ]
  },
  {
   "cell_type": "code",
   "execution_count": 3,
   "metadata": {},
   "outputs": [
    {
     "data": {
      "text/html": [
       "<div>\n",
       "<style scoped>\n",
       "    .dataframe tbody tr th:only-of-type {\n",
       "        vertical-align: middle;\n",
       "    }\n",
       "\n",
       "    .dataframe tbody tr th {\n",
       "        vertical-align: top;\n",
       "    }\n",
       "\n",
       "    .dataframe thead th {\n",
       "        text-align: right;\n",
       "    }\n",
       "</style>\n",
       "<table border=\"1\" class=\"dataframe\">\n",
       "  <thead>\n",
       "    <tr style=\"text-align: right;\">\n",
       "      <th></th>\n",
       "      <th>COE$</th>\n",
       "      <th>COE$_1</th>\n",
       "      <th>#Bids</th>\n",
       "      <th>Quota</th>\n",
       "      <th>Open?</th>\n",
       "    </tr>\n",
       "  </thead>\n",
       "  <tbody>\n",
       "    <tr>\n",
       "      <th>0</th>\n",
       "      <td>7400.0</td>\n",
       "      <td>7750.0</td>\n",
       "      <td>656</td>\n",
       "      <td>472</td>\n",
       "      <td>0</td>\n",
       "    </tr>\n",
       "    <tr>\n",
       "      <th>1</th>\n",
       "      <td>11100.0</td>\n",
       "      <td>7400.0</td>\n",
       "      <td>1462</td>\n",
       "      <td>468</td>\n",
       "      <td>0</td>\n",
       "    </tr>\n",
       "    <tr>\n",
       "      <th>2</th>\n",
       "      <td>5002.0</td>\n",
       "      <td>11100.0</td>\n",
       "      <td>633</td>\n",
       "      <td>472</td>\n",
       "      <td>0</td>\n",
       "    </tr>\n",
       "    <tr>\n",
       "      <th>3</th>\n",
       "      <td>3170.0</td>\n",
       "      <td>5002.0</td>\n",
       "      <td>952</td>\n",
       "      <td>511</td>\n",
       "      <td>0</td>\n",
       "    </tr>\n",
       "    <tr>\n",
       "      <th>4</th>\n",
       "      <td>3410.0</td>\n",
       "      <td>3170.0</td>\n",
       "      <td>919</td>\n",
       "      <td>471</td>\n",
       "      <td>0</td>\n",
       "    </tr>\n",
       "  </tbody>\n",
       "</table>\n",
       "</div>"
      ],
      "text/plain": [
       "      COE$   COE$_1  #Bids  Quota  Open?\n",
       "0   7400.0   7750.0    656    472      0\n",
       "1  11100.0   7400.0   1462    468      0\n",
       "2   5002.0  11100.0    633    472      0\n",
       "3   3170.0   5002.0    952    511      0\n",
       "4   3410.0   3170.0    919    471      0"
      ]
     },
     "execution_count": 3,
     "metadata": {},
     "output_type": "execute_result"
    }
   ],
   "source": [
    "data = temp.drop(temp.columns[[0,1]], axis=1)\n",
    "data.head()"
   ]
  },
  {
   "cell_type": "markdown",
   "metadata": {},
   "source": [
    "变量COE$_1为滞后一个月的COE价格，#Bids为某一COE的居民竞价次数，Quota记录可用证书。变量Open? 指的是使用的是公开竞价还是封闭竞价的格式。\n",
    "\n",
    "## Date Processing\n",
    "- 目标变量是COE$，我们将其存储在对象y中。\n",
    "\n",
    "- 此外，我们将使用变量COE$_1，#Bids，Quota和Open? 作为我们的附加属性集。这些变量存储在对象x中。"
   ]
  },
  {
   "cell_type": "code",
   "execution_count": 5,
   "metadata": {},
   "outputs": [],
   "source": [
    "y=data['COE$']\n",
    "x=data.drop(data.columns[[0,4]], axis =1)#drop the first line\n",
    "x=x.apply(np.log)\n",
    "x=pd.concat([x, data['Open?']], axis =1)"
   ]
  },
  {
   "cell_type": "markdown",
   "metadata": {},
   "source": [
    "第二行将COE\\$_1、#Bids和Quota存储在x中，由于Open? 是二进制的，所以在对数值变量进行对数变换后，通过协整法将其加回x中。"
   ]
  },
  {
   "cell_type": "code",
   "execution_count": 6,
   "metadata": {},
   "outputs": [
    {
     "data": {
      "text/html": [
       "<div>\n",
       "<style scoped>\n",
       "    .dataframe tbody tr th:only-of-type {\n",
       "        vertical-align: middle;\n",
       "    }\n",
       "\n",
       "    .dataframe tbody tr th {\n",
       "        vertical-align: top;\n",
       "    }\n",
       "\n",
       "    .dataframe thead th {\n",
       "        text-align: right;\n",
       "    }\n",
       "</style>\n",
       "<table border=\"1\" class=\"dataframe\">\n",
       "  <thead>\n",
       "    <tr style=\"text-align: right;\">\n",
       "      <th></th>\n",
       "      <th>COE$_1</th>\n",
       "      <th>#Bids</th>\n",
       "      <th>Quota</th>\n",
       "      <th>Open?</th>\n",
       "    </tr>\n",
       "  </thead>\n",
       "  <tbody>\n",
       "    <tr>\n",
       "      <th>0</th>\n",
       "      <td>8.955448</td>\n",
       "      <td>6.486161</td>\n",
       "      <td>6.156979</td>\n",
       "      <td>0</td>\n",
       "    </tr>\n",
       "    <tr>\n",
       "      <th>1</th>\n",
       "      <td>8.909235</td>\n",
       "      <td>7.287561</td>\n",
       "      <td>6.148468</td>\n",
       "      <td>0</td>\n",
       "    </tr>\n",
       "    <tr>\n",
       "      <th>2</th>\n",
       "      <td>9.314700</td>\n",
       "      <td>6.450470</td>\n",
       "      <td>6.156979</td>\n",
       "      <td>0</td>\n",
       "    </tr>\n",
       "    <tr>\n",
       "      <th>3</th>\n",
       "      <td>8.517593</td>\n",
       "      <td>6.858565</td>\n",
       "      <td>6.236370</td>\n",
       "      <td>0</td>\n",
       "    </tr>\n",
       "    <tr>\n",
       "      <th>4</th>\n",
       "      <td>8.061487</td>\n",
       "      <td>6.823286</td>\n",
       "      <td>6.154858</td>\n",
       "      <td>0</td>\n",
       "    </tr>\n",
       "  </tbody>\n",
       "</table>\n",
       "</div>"
      ],
      "text/plain": [
       "     COE$_1     #Bids     Quota  Open?\n",
       "0  8.955448  6.486161  6.156979      0\n",
       "1  8.909235  7.287561  6.148468      0\n",
       "2  9.314700  6.450470  6.156979      0\n",
       "3  8.517593  6.858565  6.236370      0\n",
       "4  8.061487  6.823286  6.154858      0"
      ]
     },
     "execution_count": 6,
     "metadata": {},
     "output_type": "execute_result"
    }
   ],
   "source": [
    "x.head()"
   ]
  },
  {
   "cell_type": "code",
   "execution_count": 7,
   "metadata": {},
   "outputs": [
    {
     "data": {
      "text/html": [
       "<div>\n",
       "<style scoped>\n",
       "    .dataframe tbody tr th:only-of-type {\n",
       "        vertical-align: middle;\n",
       "    }\n",
       "\n",
       "    .dataframe tbody tr th {\n",
       "        vertical-align: top;\n",
       "    }\n",
       "\n",
       "    .dataframe thead th {\n",
       "        text-align: right;\n",
       "    }\n",
       "</style>\n",
       "<table border=\"1\" class=\"dataframe\">\n",
       "  <thead>\n",
       "    <tr style=\"text-align: right;\">\n",
       "      <th></th>\n",
       "      <th>COE$_1</th>\n",
       "      <th>#Bids</th>\n",
       "      <th>Quota</th>\n",
       "      <th>Open?</th>\n",
       "    </tr>\n",
       "  </thead>\n",
       "  <tbody>\n",
       "    <tr>\n",
       "      <th>260</th>\n",
       "      <td>9.441849</td>\n",
       "      <td>7.660114</td>\n",
       "      <td>7.215240</td>\n",
       "      <td>1</td>\n",
       "    </tr>\n",
       "    <tr>\n",
       "      <th>261</th>\n",
       "      <td>9.557894</td>\n",
       "      <td>7.591357</td>\n",
       "      <td>7.160069</td>\n",
       "      <td>1</td>\n",
       "    </tr>\n",
       "    <tr>\n",
       "      <th>262</th>\n",
       "      <td>9.581973</td>\n",
       "      <td>7.596392</td>\n",
       "      <td>7.156956</td>\n",
       "      <td>1</td>\n",
       "    </tr>\n",
       "    <tr>\n",
       "      <th>263</th>\n",
       "      <td>9.593492</td>\n",
       "      <td>7.443078</td>\n",
       "      <td>7.162397</td>\n",
       "      <td>1</td>\n",
       "    </tr>\n",
       "    <tr>\n",
       "      <th>264</th>\n",
       "      <td>9.510371</td>\n",
       "      <td>7.529943</td>\n",
       "      <td>7.173192</td>\n",
       "      <td>1</td>\n",
       "    </tr>\n",
       "  </tbody>\n",
       "</table>\n",
       "</div>"
      ],
      "text/plain": [
       "       COE$_1     #Bids     Quota  Open?\n",
       "260  9.441849  7.660114  7.215240      1\n",
       "261  9.557894  7.591357  7.160069      1\n",
       "262  9.581973  7.596392  7.156956      1\n",
       "263  9.593492  7.443078  7.162397      1\n",
       "264  9.510371  7.529943  7.173192      1"
      ]
     },
     "execution_count": 7,
     "metadata": {},
     "output_type": "execute_result"
    }
   ],
   "source": [
    "x.tail()"
   ]
  },
  {
   "cell_type": "markdown",
   "metadata": {},
   "source": [
    "## Scaling Attributes and Target\n",
    "下一步是将属性扩展到一个合适的范围，输入到深度神经网络模型中。"
   ]
  },
  {
   "cell_type": "code",
   "execution_count": 8,
   "metadata": {},
   "outputs": [],
   "source": [
    "from sklearn import preprocessing\n",
    "scaler_x = preprocessing.MinMaxScaler(feature_range=(0,1))\n",
    "x = np.array(x).reshape(len(x),4)\n",
    "x = scaler_x.fit_transform(x)"
   ]
  },
  {
   "cell_type": "markdown",
   "metadata": {},
   "source": [
    "属性的比例是在0到1的范围内。请注意，x是按属性数重塑成一个numpy ndarray。因此，值 \"4 \"指的是属性的数量。类似的方法也可以用来缩放目标变量。"
   ]
  },
  {
   "cell_type": "code",
   "execution_count": 9,
   "metadata": {},
   "outputs": [],
   "source": [
    "scaler_y = preprocessing.MinMaxScaler(feature_range=(0,1))\n",
    "y = np.array(y).reshape(len(y),1)\n",
    "y = np.log(y)\n",
    "y = scaler_y.fit_transform(y)"
   ]
  },
  {
   "cell_type": "markdown",
   "metadata": {},
   "source": [
    "## The pyneurgen Module\n",
    "pyneurgen模块提供了在Python程序中使用的库，用于构建神经网络和遗传算法和/或遗传编程。我们将使用这个包来构建我们的模型。它要求以列表的形式提供目标和属性。"
   ]
  },
  {
   "cell_type": "code",
   "execution_count": 10,
   "metadata": {},
   "outputs": [],
   "source": [
    "y = y.tolist()\n",
    "x = x.tolist()"
   ]
  },
  {
   "attachments": {
    "%E5%9B%BE%E7%89%87.png": {
     "image/png": "[encoded data removed]"
    }
   },
   "cell_type": "markdown",
   "metadata": {},
   "source": [
    "## How a Neural Network Learns\n",
    "![%E5%9B%BE%E7%89%87.png](attachment:%E5%9B%BE%E7%89%87.png)\n",
    "反向传播是使用最广泛的学习算法。它将神经网络的输出与期望值进行比较。然后它计算输出与期望值的差距有多大。这是对误差的衡量。接下来，它计算与前一层的每个神经元相关的误差。这个过程重复进行，直到到达输入层。由于误差是通过网络向后传播（从输出到输入属性）来调整权重和偏置，所以这种方法被称为反向传播。\n",
    "## Step by Step Explanation\n",
    "- 第1步:-网络的初始化。需要确定权重的初始值。神经网络一般采用随机权重进行初始化。\n",
    "- 第2步:-前馈。信息通过节点激活函数和权重从输入层向前传递到隐藏层和输出层。激活函数是（通常）节点输入的加权和的sigmoidal（即上下有界，但可微分）函数。\n",
    "- 第3步:-错误评估。评估误差是否足够小，以满足要求，或迭代次数是否达到预定的限度。如果满足其中一个条件，则训练结束。否则，迭代学习过程继续进行。\n",
    "- 第4步:-传播。输出层的误差被用来重塑权重。该算法通过网络向后传播误差，并计算误差变化与权值变化的梯度。\n",
    "- 第5步:-调整。利用变化的梯度对权重进行调整，以减少误差。根据激活函数的导数、网络输出与实际目标结果的差值和神经元输出，对每个神经元的权重和偏置进行系数调整。通过这个过程，网络就会 \"学习\"。\n",
    "\n",
    "## Gradient Descent Clarified\n",
    "梯度下降是在神经网络中进行优化的最流行算法之一。一般来说，我们希望找到最小化误差函数的权重和偏置。梯度下降迭代更新参数，以最小化整个网络的误差。它沿着损失函数的梯度方向反复更新权重参数，直到达到最小值。换句话说，我们沿着损失函数的斜率方向往下走，直到到达一个谷底。\n",
    "## Stochastic Gradient Descent\n",
    "随机梯度下降（SGD）是真实梯度的近似。在每次迭代时，它随机选择一个例子来更新参数，并相对于该例子的梯度方向移动。因此，它遵循一个有噪声的梯度路径来达到最小。由于缺乏冗余，它通常比传统的梯度下降法更快地收敛到一个解决方案。\n",
    "\n",
    "随机梯度下降有一个相当不错的理论特性，就是如果损失函数是凸convex的，它就能保证找到全局最小值。只要在训练过程中缓慢降低学习率，SGD具有和传统梯度下降一样的收敛行为。\n",
    "## How to Easily Specify a Model"
   ]
  },
  {
   "cell_type": "code",
   "execution_count": 17,
   "metadata": {},
   "outputs": [],
   "source": [
    "from pyneurgen.neuralnet import NeuralNet\n",
    "# here I made some change in the neuralnet.py"
   ]
  },
  {
   "cell_type": "code",
   "execution_count": 18,
   "metadata": {},
   "outputs": [],
   "source": [
    "import random\n",
    "random.seed(2020)\n",
    "fit1 = NeuralNet()\n",
    "fit1.init_layers(4,[7,3],1)\n",
    "fit1.randomize_network() #The randomize_network method randomizes the weights and bias of each connection."
   ]
  },
  {
   "cell_type": "markdown",
   "metadata": {},
   "source": [
    "在fit1中实例化主类NeuralNet后，指定网络层。该模型包含4个输入属性，2个隐藏层，1个输出层。第一个隐藏层包含7个节点，第二个隐藏层有3个节点。\n",
    "## Setting the Learning Rate\n",
    "我们接下来的任务是指定学习率。它决定了梯度下降算法达到最小值所需步数的大小。"
   ]
  },
  {
   "cell_type": "code",
   "execution_count": 23,
   "metadata": {},
   "outputs": [],
   "source": [
    "fit1.set_learnrate(0.05)\n",
    "fit1.set_all_inputs(x)\n",
    "fit1.set_all_targets(y)\n",
    "length = len(x)\n",
    "learn_end_point = int(length * 0.95)\n",
    "fit1.set_learn_range(0, learn_end_point)\n",
    "fit1.set_test_range(learn_end_point+1, length-1)"
   ]
  },
  {
   "cell_type": "markdown",
   "metadata": {},
   "source": [
    "在上面的代码中，一旦指定了学习率，就会将属性和响应传递给fit1。我们使用95%的观测值来训练模型，剩余的观测值用于测试集。\n",
    "## The Efficient Way to Run Your Model"
   ]
  },
  {
   "cell_type": "code",
   "execution_count": 24,
   "metadata": {},
   "outputs": [],
   "source": [
    "fit1.layers[1].set_activation_type('tanh')\n",
    "fit1.layers[2].set_activation_type('tanh')"
   ]
  },
  {
   "cell_type": "code",
   "execution_count": 25,
   "metadata": {},
   "outputs": [
    {
     "name": "stdout",
     "output_type": "stream",
     "text": [
      "epoch: 0 MSE: 0.008007865210771912\n",
      "epoch: 1 MSE: 0.0024197674965604904\n",
      "epoch: 2 MSE: 0.0018758836060351867\n",
      "epoch: 3 MSE: 0.0016544077997741491\n",
      "epoch: 4 MSE: 0.0015225021423468826\n",
      "epoch: 5 MSE: 0.0014234421919533595\n",
      "epoch: 6 MSE: 0.0013403282385358545\n",
      "epoch: 7 MSE: 0.0012672020574480466\n",
      "epoch: 8 MSE: 0.0012015611628917045\n",
      "epoch: 9 MSE: 0.001142124609458405\n",
      "epoch: 10 MSE: 0.0010880934828814979\n",
      "epoch: 11 MSE: 0.0010388847837603332\n",
      "epoch: 12 MSE: 0.0009940277949190216\n",
      "epoch: 13 MSE: 0.0009531200007021088\n",
      "epoch: 14 MSE: 0.000915806239582552\n",
      "epoch: 15 MSE: 0.0008817675933060273\n",
      "epoch: 16 MSE: 0.000850714741635643\n",
      "epoch: 17 MSE: 0.0008223835974500029\n",
      "epoch: 18 MSE: 0.0007965322376060413\n",
      "epoch: 19 MSE: 0.0007729386337018849\n",
      "epoch: 20 MSE: 0.0007513989004795145\n",
      "epoch: 21 MSE: 0.0007317258841436796\n",
      "epoch: 22 MSE: 0.0007137479720872963\n",
      "epoch: 23 MSE: 0.0006973080439385382\n",
      "epoch: 24 MSE: 0.0006822625110027616\n",
      "epoch: 25 MSE: 0.0006684804109512548\n",
      "epoch: 26 MSE: 0.0006558425388688429\n",
      "epoch: 27 MSE: 0.0006442406056807858\n",
      "epoch: 28 MSE: 0.0006335764214619897\n",
      "epoch: 29 MSE: 0.0006237611049957417\n",
      "epoch: 30 MSE: 0.0006147143228982833\n",
      "epoch: 31 MSE: 0.0006063635622511938\n",
      "epoch: 32 MSE: 0.0005986434404589977\n",
      "epoch: 33 MSE: 0.0005914950553357479\n",
      "epoch: 34 MSE: 0.0005848653774819246\n",
      "epoch: 35 MSE: 0.0005787066860189157\n",
      "epoch: 36 MSE: 0.0005729760478139672\n",
      "epoch: 37 MSE: 0.0005676348395166111\n",
      "epoch: 38 MSE: 0.0005626483110658927\n",
      "epoch: 39 MSE: 0.0005579851888213365\n",
      "epoch: 40 MSE: 0.00055361731611051\n",
      "epoch: 41 MSE: 0.0005495193287548221\n",
      "epoch: 42 MSE: 0.0005456683630128349\n",
      "epoch: 43 MSE: 0.0005420437933457271\n",
      "epoch: 44 MSE: 0.0005386269974430439\n",
      "epoch: 45 MSE: 0.0005354011460309332\n",
      "epoch: 46 MSE: 0.0005323510151049362\n",
      "epoch: 47 MSE: 0.0005294628183725267\n",
      "epoch: 48 MSE: 0.0005267240578473706\n",
      "epoch: 49 MSE: 0.0005241233906999206\n",
      "epoch: 50 MSE: 0.0005216505106317438\n",
      "epoch: 51 MSE: 0.0005192960421997165\n",
      "epoch: 52 MSE: 0.00051705144666805\n",
      "epoch: 53 MSE: 0.000514908938108945\n",
      "epoch: 54 MSE: 0.0005128614086056563\n",
      "epoch: 55 MSE: 0.0005109023615341053\n",
      "epoch: 56 MSE: 0.0005090258520109945\n",
      "epoch: 57 MSE: 0.0005072264336977394\n",
      "epoch: 58 MSE: 0.0005054991112410382\n",
      "epoch: 59 MSE: 0.0005038392977129001\n",
      "epoch: 60 MSE: 0.0005022427764864512\n",
      "epoch: 61 MSE: 0.0005007056670490606\n",
      "epoch: 62 MSE: 0.0004992243943125155\n",
      "epoch: 63 MSE: 0.00049779566103136\n",
      "epoch: 64 MSE: 0.0004964164229860272\n",
      "epoch: 65 MSE: 0.0004950838666275951\n",
      "epoch: 66 MSE: 0.0004937953889163622\n",
      "epoch: 67 MSE: 0.0004925485791177262\n",
      "epoch: 68 MSE: 0.0004913412023462043\n",
      "epoch: 69 MSE: 0.0004901711846726969\n",
      "epoch: 70 MSE: 0.0004890365996312508\n",
      "epoch: 71 MSE: 0.0004879356559803126\n",
      "epoch: 72 MSE: 0.0004868666865898626\n",
      "epoch: 73 MSE: 0.00048582813834026275\n",
      "epoch: 74 MSE: 0.0004848185629313796\n",
      "epoch: 75 MSE: 0.0004838366085117035\n",
      "epoch: 76 MSE: 0.00048288101204707737\n",
      "epoch: 77 MSE: 0.00048195059235729297\n",
      "epoch: 78 MSE: 0.00048104424375652817\n",
      "epoch: 79 MSE: 0.0004801609302403187\n",
      "epoch: 80 MSE: 0.00047929968016779777\n",
      "epoch: 81 MSE: 0.0004784595813931838\n",
      "epoch: 82 MSE: 0.0004776397768052467\n",
      "epoch: 83 MSE: 0.00047683946023759587\n",
      "epoch: 84 MSE: 0.0004760578727163978\n",
      "epoch: 85 MSE: 0.00047529429901536826\n",
      "epoch: 86 MSE: 0.0004745480644908663\n",
      "epoch: 87 MSE: 0.00047381853217251166\n",
      "epoch: 88 MSE: 0.00047310510008710113\n",
      "epoch: 89 MSE: 0.0004724071987956953\n",
      "epoch: 90 MSE: 0.000471724289125611\n",
      "epoch: 91 MSE: 0.00047105586008076356\n",
      "epoch: 92 MSE: 0.00047040142691530406\n",
      "epoch: 93 MSE: 0.00046976052935684373\n",
      "epoch: 94 MSE: 0.0004691327299668362\n",
      "epoch: 95 MSE: 0.00046851761262673303\n",
      "epoch: 96 MSE: 0.00046791478113956985\n",
      "epoch: 97 MSE: 0.00046732385793754675\n",
      "epoch: 98 MSE: 0.00046674448288696983\n",
      "epoch: 99 MSE: 0.00046617631218265733\n",
      "epoch: 100 MSE: 0.00046561901732461273\n",
      "epoch: 101 MSE: 0.00046507228417038836\n",
      "epoch: 102 MSE: 0.0004645358120570596\n",
      "epoch: 103 MSE: 0.0004640093129873069\n",
      "epoch: 104 MSE: 0.0004634925108745339\n",
      "epoch: 105 MSE: 0.0004629851408423694\n",
      "epoch: 106 MSE: 0.0004624869485742794\n",
      "epoch: 107 MSE: 0.0004619976897093989\n",
      "epoch: 108 MSE: 0.00046151712928096895\n",
      "epoch: 109 MSE: 0.0004610450411940983\n",
      "epoch: 110 MSE: 0.00046058120773979883\n",
      "epoch: 111 MSE: 0.0004601254191425228\n",
      "epoch: 112 MSE: 0.0004596774731386463\n",
      "epoch: 113 MSE: 0.0004592371745835252\n",
      "epoch: 114 MSE: 0.00045880433508495636\n",
      "epoch: 115 MSE: 0.00045837877266108703\n",
      "epoch: 116 MSE: 0.00045796031142088326\n",
      "epoch: 117 MSE: 0.000457548781265508\n",
      "epoch: 118 MSE: 0.00045714401760903363\n",
      "epoch: 119 MSE: 0.0004567458611170651\n",
      "epoch: 120 MSE: 0.0004563541574619473\n",
      "epoch: 121 MSE: 0.0004559687570933343\n",
      "epoch: 122 MSE: 0.00045558951502301664\n",
      "epoch: 123 MSE: 0.00045521629062295185\n",
      "epoch: 124 MSE: 0.0004548489474355556\n",
      "epoch: 125 MSE: 0.0004544873529953659\n",
      "epoch: 126 MSE: 0.0004541313786612762\n",
      "epoch: 127 MSE: 0.00045378089945858436\n",
      "epoch: 128 MSE: 0.000453435793930157\n",
      "epoch: 129 MSE: 0.0004530959439960851\n",
      "epoch: 130 MSE: 0.00045276123482122923\n",
      "epoch: 131 MSE: 0.00045243155469010775\n",
      "epoch: 132 MSE: 0.00045210679488863535\n",
      "epoch: 133 MSE: 0.00045178684959223334\n",
      "epoch: 134 MSE: 0.0004514716157598851\n",
      "epoch: 135 MSE: 0.00045116099303374273\n",
      "epoch: 136 MSE: 0.00045085488364390603\n",
      "epoch: 137 MSE: 0.0004505531923180435\n",
      "epoch: 138 MSE: 0.00045025582619552957\n",
      "epoch: 139 MSE: 0.0004499626947458053\n",
      "epoch: 140 MSE: 0.0004496737096907059\n",
      "epoch: 141 MSE: 0.00044938878493048384\n",
      "epoch: 142 MSE: 0.00044910783647330563\n",
      "epoch: 143 MSE: 0.0004488307823680001\n",
      "epoch: 144 MSE: 0.00044855754263986965\n",
      "epoch: 145 MSE: 0.0004482880392293627\n",
      "epoch: 146 MSE: 0.0004480221959334366\n",
      "epoch: 147 MSE: 0.00044775993834947017\n",
      "epoch: 148 MSE: 0.0004475011938215434\n",
      "epoch: 149 MSE: 0.0004472458913889779\n",
      "epoch: 150 MSE: 0.000446993961736984\n",
      "epoch: 151 MSE: 0.0004467453371493116\n",
      "epoch: 152 MSE: 0.0004464999514627776\n",
      "epoch: 153 MSE: 0.0004462577400235864\n",
      "epoch: 154 MSE: 0.000446018639645324\n",
      "epoch: 155 MSE: 0.0004457825885685422\n",
      "epoch: 156 MSE: 0.00044554952642186313\n",
      "epoch: 157 MSE: 0.0004453193941845067\n",
      "epoch: 158 MSE: 0.0004450921341501673\n",
      "epoch: 159 MSE: 0.00044486768989218786\n",
      "epoch: 160 MSE: 0.0004446460062299508\n",
      "epoch: 161 MSE: 0.0004444270291964292\n",
      "epoch: 162 MSE: 0.000444210706006851\n",
      "epoch: 163 MSE: 0.0004439969850284096\n",
      "epoch: 164 MSE: 0.0004437858157509747\n",
      "epoch: 165 MSE: 0.0004435771487587721\n",
      "epoch: 166 MSE: 0.00044337093570296434\n",
      "epoch: 167 MSE: 0.00044316712927510723\n",
      "epoch: 168 MSE: 0.00044296568318144287\n",
      "epoch: 169 MSE: 0.00044276655211799123\n",
      "epoch: 170 MSE: 0.00044256969174639603\n",
      "epoch: 171 MSE: 0.00044237505867050965\n",
      "epoch: 172 MSE: 0.0004421826104136789\n",
      "epoch: 173 MSE: 0.00044199230539670114\n",
      "epoch: 174 MSE: 0.0004418041029164228\n",
      "epoch: 175 MSE: 0.0004416179631249652\n",
      "epoch: 176 MSE: 0.0004414338470095371\n",
      "epoch: 177 MSE: 0.00044125171637282936\n",
      "epoch: 178 MSE: 0.0004410715338139574\n",
      "epoch: 179 MSE: 0.00044089326270993034\n",
      "epoch: 180 MSE: 0.0004407168671976398\n",
      "epoch: 181 MSE: 0.0004405423121563349\n",
      "epoch: 182 MSE: 0.0004403695631905797\n",
      "epoch: 183 MSE: 0.0004401985866136611\n",
      "epoch: 184 MSE: 0.00044002934943145614\n",
      "epoch: 185 MSE: 0.00043986181932670327\n",
      "epoch: 186 MSE: 0.00043969596464371027\n",
      "epoch: 187 MSE: 0.0004395317543734534\n",
      "epoch: 188 MSE: 0.00043936915813906006\n",
      "epoch: 189 MSE: 0.0004392081461816755\n",
      "epoch: 190 MSE: 0.0004390486893466833\n",
      "epoch: 191 MSE: 0.0004388907590702862\n",
      "epoch: 192 MSE: 0.0004387343273664155\n",
      "epoch: 193 MSE: 0.00043857936681398666\n",
      "epoch: 194 MSE: 0.00043842585054446216\n",
      "epoch: 195 MSE: 0.00043827375222973167\n",
      "epoch: 196 MSE: 0.00043812304607029017\n",
      "epoch: 197 MSE: 0.0004379737067837092\n",
      "epoch: 198 MSE: 0.0004378257095933953\n",
      "epoch: 199 MSE: 0.0004376790302176198\n"
     ]
    }
   ],
   "source": [
    "fit1.learn(epochs=200,show_epoch_results=True,random_testing=False)\n",
    "# 参数random_testing被设置为False以保持例子的顺序。模型运行了200个epoch"
   ]
  },
  {
   "cell_type": "markdown",
   "metadata": {},
   "source": [
    "## Assess Performance\n",
    "性能是用均方误差（MSE）来衡量的。它的计算方法是将观察到的目标（y）和预测值（ŷ）之间的平方差相加，然后除以测试例子的数量（n）。\n",
    "$MSE =\\frac{1}{n}\\sum_{i=1}^{n}(ŷ_i − y_i )^2$"
   ]
  },
  {
   "cell_type": "code",
   "execution_count": 26,
   "metadata": {},
   "outputs": [
    {
     "data": {
      "text/plain": [
       "0.000203"
      ]
     },
     "execution_count": 26,
     "metadata": {},
     "output_type": "execute_result"
    }
   ],
   "source": [
    "mse = fit1.test()\n",
    "np.round(mse, 6)"
   ]
  },
  {
   "cell_type": "code",
   "execution_count": 28,
   "metadata": {},
   "outputs": [
    {
     "name": "stdout",
     "output_type": "stream",
     "text": [
      "test_reals are (时间长度为13):\n",
      "[10803.0, 11101.0, 12699.0, 13605.0, 15200.0, 14900.0, 13000.0, 12605.0, 14156.0, 14501.0, 14669.0, 13499.0, 13301.0]\n"
     ]
    }
   ],
   "source": [
    "test_reals = data['COE$'][learn_end_point + 1:length].tolist()\n",
    "print(\"test_reals are (时间长度为%d):\" % len(test_reals))\n",
    "print(test_reals)"
   ]
  },
  {
   "cell_type": "code",
   "execution_count": 30,
   "metadata": {},
   "outputs": [
    {
     "name": "stdout",
     "output_type": "stream",
     "text": [
      "retrieved_reals are(时间长度为12):\n",
      "[10802.999999999998, 11100.99999999999, 12699.000000000002, 13604.999999999989, 15200.000000000007, 14899.999999999967, 12999.99999999999, 12605.0, 14156.000000000004, 14501.000000000004, 14668.999999999995, 13499.000000000004]\n"
     ]
    }
   ],
   "source": [
    "# 模型反归一化变换得到真实际值\n",
    "retrieved_reals = [np.exp(\n",
    "    scaler_y.inverse_transform(np.array(item).reshape(-1, 1)\n",
    "                              ))[0][0] for item in fit1.test_targets_activations]\n",
    "print(\"retrieved_reals are(时间长度为%d):\" % len(retrieved_reals))\n",
    "print(retrieved_reals)"
   ]
  },
  {
   "cell_type": "code",
   "execution_count": 32,
   "metadata": {},
   "outputs": [
    {
     "name": "stdout",
     "output_type": "stream",
     "text": [
      "forecasts are(时间长度为12):\n",
      "[11376.365020671166, 11652.409129625485, 11793.410931595541, 13887.909167774651, 14584.214524996894, 15418.727150164557, 12432.60769149443, 11992.936689014941, 11513.909962482037, 12784.091032735589, 13072.69286239841, 11923.581269227308]\n"
     ]
    }
   ],
   "source": [
    "# 模型对价格的预测值\n",
    "forecast = [np.exp(scaler_y.inverse_transform(\n",
    "            np.array(item).reshape(-1, 1)))[1][0] for item in fit1.test_targets_activations]\n",
    "print(\"forecasts are(时间长度为%d):\" % len(forecast))\n",
    "print(forecast)"
   ]
  },
  {
   "cell_type": "code",
   "execution_count": 34,
   "metadata": {},
   "outputs": [
    {
     "data": {
      "text/plain": [
       "<matplotlib.legend.Legend at 0x7f796f9a2f50>"
      ]
     },
     "execution_count": 34,
     "metadata": {},
     "output_type": "execute_result"
    },
    {
     "data": {
      "image/png": "[encoded data removed]",
      "text/plain": [
       "<Figure size 432x288 with 1 Axes>"
      ]
     },
     "metadata": {
      "needs_background": "light"
     },
     "output_type": "display_data"
    }
   ],
   "source": [
    "import matplotlib.pyplot as plt\n",
    "real = np.array(data['COE$']).reshape(-1)\n",
    "history_time_length = 50\n",
    "ahead = 12\n",
    "plt.plot(range(0, ahead), forecast, '-r', label=u\"Predict\", linewidth=1)\n",
    "plt.plot(range(0, ahead), test_reals[0:ahead], color='black', label=u\"Actual\", linewidth=1)\n",
    "plt.plot(range(0, ahead), np.array(test_reals[0:ahead]) - 1500, '--k',\n",
    "             label=u\"Actual Price - $1500\", linewidth=1)\n",
    "plt.plot(range(0, ahead), np.array(test_reals[0:ahead]) + 1500, '--k',\n",
    "             label=u\"Actual Price + $1500\", linewidth=1)\n",
    "plt.plot(range(-history_time_length, 0),\n",
    "             real[len(real) - ahead - history_time_length - 1: len(real) - ahead - 1],\n",
    "             '-b', label=u\"History Price\", linewidth=1)\n",
    "plt.xlabel(u\"Predicted time is positive, historical time is negative.\")\n",
    "plt.ylabel(u\"Price, $\")\n",
    "plt.legend()"
   ]
  },
  {
   "cell_type": "code",
   "execution_count": 35,
   "metadata": {},
   "outputs": [
    {
     "data": {
      "text/plain": [
       "Text(0.5, 1.0, 'Mean Squared Error by Epoch')"
      ]
     },
     "execution_count": 35,
     "metadata": {},
     "output_type": "execute_result"
    },
    {
     "data": {
      "image/png": "[encoded data removed]",
      "text/plain": [
       "<Figure size 432x288 with 1 Axes>"
      ]
     },
     "metadata": {
      "needs_background": "light"
     },
     "output_type": "display_data"
    }
   ],
   "source": [
    "plt.plot(range(1, len(fit1.accum_mse) + 1, 1), fit1.accum_mse)\n",
    "plt.xlabel('epochs')\n",
    "plt.ylabel('mean squared error')\n",
    "plt.grid(True)\n",
    "plt.title(\"Mean Squared Error by Epoch\")"
   ]
  },
  {
   "cell_type": "code",
   "execution_count": null,
   "metadata": {},
   "outputs": [],
   "source": []
  }
 ],
 "metadata": {
  "kernelspec": {
   "display_name": "Python 3",
   "language": "python",
   "name": "python3"
  },
  "language_info": {
   "codemirror_mode": {
    "name": "ipython",
    "version": 3
   },
   "file_extension": ".py",
   "mimetype": "text/x-python",
   "name": "python",
   "nbconvert_exporter": "python",
   "pygments_lexer": "ipython3",
   "version": "3.7.7"
  }
 },
 "nbformat": 4,
 "nbformat_minor": 2
}
