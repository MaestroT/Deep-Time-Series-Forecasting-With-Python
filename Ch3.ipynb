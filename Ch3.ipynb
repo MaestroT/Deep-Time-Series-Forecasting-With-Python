{
 "cells": [
  {
   "cell_type": "markdown",
   "metadata": {},
   "source": [
    "# Deep Neural Networks for Time Series Forecasting the Easy Way\n",
    "## Getting the Data from the Internet\n",
    "如果你曾在新加坡生活过，你就会知道，任何人想要注册新车，都必须先获得权利证书（COE）。它使持有人有权拥有车辆，并在这个热带岛国非常有限的道路上行驶。发放的特遣队所属装备数量有限，只能通过公开招标制度获得。"
   ]
  },
  {
   "cell_type": "code",
   "execution_count": 28,
   "metadata": {},
   "outputs": [],
   "source": [
    "import numpy as np\n",
    "import pandas as pd"
   ]
  },
  {
   "cell_type": "code",
   "execution_count": 39,
   "metadata": {},
   "outputs": [],
   "source": [
    "loc = \"COE.xls\""
   ]
  },
  {
   "cell_type": "markdown",
   "metadata": {},
   "source": [
    "## Cleaning up Downloaded Spreadsheet Files"
   ]
  },
  {
   "cell_type": "code",
   "execution_count": 40,
   "metadata": {},
   "outputs": [],
   "source": [
    "Excel_file = pd.ExcelFile(loc)"
   ]
  },
  {
   "cell_type": "code",
   "execution_count": 41,
   "metadata": {},
   "outputs": [
    {
     "name": "stdout",
     "output_type": "stream",
     "text": [
      "['COE data']\n"
     ]
    }
   ],
   "source": [
    "print(Excel_file.sheet_names)"
   ]
  },
  {
   "cell_type": "code",
   "execution_count": 42,
   "metadata": {},
   "outputs": [],
   "source": [
    "spreadsheet = Excel_file.parse('COE data')"
   ]
  },
  {
   "cell_type": "code",
   "execution_count": 32,
   "metadata": {},
   "outputs": [
    {
     "name": "stdout",
     "output_type": "stream",
     "text": [
      "<class 'pandas.core.frame.DataFrame'>\n",
      "RangeIndex: 265 entries, 0 to 264\n",
      "Data columns (total 6 columns):\n",
      "DATE      265 non-null datetime64[ns]\n",
      "COE$      265 non-null float64\n",
      "COE$_1    265 non-null float64\n",
      "#Bids     265 non-null int64\n",
      "Quota     265 non-null int64\n",
      "Open?     265 non-null int64\n",
      "dtypes: datetime64[ns](1), float64(2), int64(3)\n",
      "memory usage: 12.5 KB\n"
     ]
    }
   ],
   "source": [
    "spreadsheet.info()"
   ]
  },
  {
   "cell_type": "markdown",
   "metadata": {},
   "source": [
    "我们看到电子表格包含六列，有265行（条目）。第一栏包含COE拍卖的日期，其余各栏为其他五个变量。变量COE$包含权利证书的历史价格。我们将把它作为我们的目标变量，并把它存储在一个名为data的对象中。"
   ]
  },
  {
   "cell_type": "code",
   "execution_count": 33,
   "metadata": {},
   "outputs": [
    {
     "name": "stdout",
     "output_type": "stream",
     "text": [
      "0     7400.0\n",
      "1    11100.0\n",
      "2     5002.0\n",
      "3     3170.0\n",
      "4     3410.0\n",
      "Name: COE$, dtype: float64\n"
     ]
    }
   ],
   "source": [
    "data = spreadsheet['COE$']\n",
    "print(data.head())"
   ]
  },
  {
   "cell_type": "markdown",
   "metadata": {},
   "source": [
    "## Adjusting Dates\n"
   ]
  },
  {
   "cell_type": "code",
   "execution_count": 43,
   "metadata": {},
   "outputs": [
    {
     "name": "stdout",
     "output_type": "stream",
     "text": [
      "193   2004-02-01\n",
      "194   2002-02-15\n",
      "195   2004-03-01\n",
      "196   2004-03-15\n",
      "197   2004-04-01\n",
      "198   2002-04-15\n",
      "199   2004-05-01\n",
      "200   2004-05-15\n",
      "201   2004-06-01\n",
      "202   2002-06-15\n",
      "203   2004-07-01\n",
      "Name: DATE, dtype: datetime64[ns]\n"
     ]
    }
   ],
   "source": [
    "print(spreadsheet['DATE'][193:204])"
   ]
  },
  {
   "cell_type": "code",
   "execution_count": 44,
   "metadata": {},
   "outputs": [],
   "source": [
    "spreadsheet.loc[194,'DATE']='2004-02-05'\n",
    "spreadsheet.loc[198,'DATE']='2004-04-15'\n",
    "spreadsheet.loc[202,'DATE']='2004-06-15'"
   ]
  },
  {
   "cell_type": "code",
   "execution_count": 45,
   "metadata": {},
   "outputs": [
    {
     "name": "stdout",
     "output_type": "stream",
     "text": [
      "193    2004-02-01 00:00:00\n",
      "194             2004-02-05\n",
      "195    2004-03-01 00:00:00\n",
      "196    2004-03-15 00:00:00\n",
      "197    2004-04-01 00:00:00\n",
      "198             2004-04-15\n",
      "199    2004-05-01 00:00:00\n",
      "200    2004-05-15 00:00:00\n",
      "201    2004-06-01 00:00:00\n",
      "202             2004-06-15\n",
      "203    2004-07-01 00:00:00\n",
      "Name: DATE, dtype: object\n"
     ]
    }
   ],
   "source": [
    "print(spreadsheet['DATE'][193:204])"
   ]
  },
  {
   "cell_type": "markdown",
   "metadata": {},
   "source": [
    "## Saving Data"
   ]
  },
  {
   "cell_type": "code",
   "execution_count": 46,
   "metadata": {},
   "outputs": [],
   "source": [
    "spreadsheet.to_csv('update_COE.csv')"
   ]
  },
  {
   "cell_type": "markdown",
   "metadata": {},
   "source": [
    "神经元的任务是对输入信号进行加权和，并在将输出传给下一层之前应用激活函数。所以，我们看到，输入层将数据传递给第一个隐藏层。隐藏层神经元对输入层神经元传递给他们的信息进行求和；输出层神经元对隐藏层神经元传递给他们的加权信息进行求和。\n",
    "## How to Scale the Input attributes\n",
    "深度神经网络对输入数据的尺度很敏感，特别是在使用sigmoid（见第38页）或tanh（见第44页）激活函数时。最好的做法是将数据重新标定到-1到+1或0到1的范围内，这可以通过sklearn模块中的MinMaxScaler方法实现。"
   ]
  },
  {
   "cell_type": "code",
   "execution_count": 47,
   "metadata": {},
   "outputs": [],
   "source": [
    "from sklearn import preprocessing"
   ]
  },
  {
   "cell_type": "code",
   "execution_count": 48,
   "metadata": {},
   "outputs": [],
   "source": [
    "x = data\n",
    "scaler = preprocessing.MinMaxScaler(feature_range=(0,1))\n",
    "# 第一行将价格数据传输到我们的属性变量x中，\n",
    "# 然后加载预处理模块，并使用MinMaxScaler与feature_range设置，\n",
    "# 将属性缩放到0到1的范围。对象缩放器，包含缩放数据所需的指令。"
   ]
  },
  {
   "cell_type": "code",
   "execution_count": 49,
   "metadata": {},
   "outputs": [
    {
     "data": {
      "text/plain": [
       "MinMaxScaler(copy=True, feature_range=(0, 1))"
      ]
     },
     "execution_count": 49,
     "metadata": {},
     "output_type": "execute_result"
    }
   ],
   "source": [
    "scaler"
   ]
  },
  {
   "cell_type": "markdown",
   "metadata": {},
   "source": [
    "这告诉我们scaler将把数据放大到0,1范围。请注意，复制=True是默认设置。如果输入已经是一个numpy数组，你可以将其设置为False，以执行原地行归一化，避免复制。但是，我们将其设置为True，因为x（和数据）是Pandas系列的。\n",
    "\n",
    "Pandas对于数据操作来说是很好的，但是对于我们的数值分析来说，我们需要使用一个numpy数组。"
   ]
  },
  {
   "cell_type": "code",
   "execution_count": 50,
   "metadata": {},
   "outputs": [],
   "source": [
    "x = np.array(x).reshape(( len(x), ))"
   ]
  },
  {
   "cell_type": "markdown",
   "metadata": {},
   "source": [
    "## Log Transform\n",
    "当处理总是取正值的时间序列时，我通常喜欢对数据进行对数转换。我想这源于我在建立计量经济学模型的日子里，应用对数转换有助于数据的标准化。总之，下面是如何做到这一点。"
   ]
  },
  {
   "cell_type": "code",
   "execution_count": 51,
   "metadata": {},
   "outputs": [],
   "source": [
    "x = np.log(x)"
   ]
  },
  {
   "cell_type": "code",
   "execution_count": null,
   "metadata": {},
   "outputs": [],
   "source": []
  }
 ],
 "metadata": {
  "kernelspec": {
   "display_name": "Python 3",
   "language": "python",
   "name": "python3"
  },
  "language_info": {
   "codemirror_mode": {
    "name": "ipython",
    "version": 3
   },
   "file_extension": ".py",
   "mimetype": "text/x-python",
   "name": "python",
   "nbconvert_exporter": "python",
   "pygments_lexer": "ipython3",
   "version": "3.7.7"
  }
 },
 "nbformat": 4,
 "nbformat_minor": 2
}
