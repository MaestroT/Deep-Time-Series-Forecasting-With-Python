{
 "cells": [
  {
   "cell_type": "markdown",
   "metadata": {},
   "source": [
    "# Deep Neural Networks for Time Series Forecasting the Easy Way\n",
    "## Getting the Data from the Internet\n",
    "如果你曾在新加坡生活过，你就会知道，任何人想要注册新车，都必须先获得权利证书（COE）。它使持有人有权拥有车辆，并在这个热带岛国非常有限的道路上行驶。发放的特遣队所属装备数量有限，只能通过公开招标制度获得。"
   ]
  },
  {
   "cell_type": "code",
   "execution_count": 1,
   "metadata": {},
   "outputs": [],
   "source": [
    "import numpy as np\n",
    "import pandas as pd"
   ]
  },
  {
   "cell_type": "code",
   "execution_count": 2,
   "metadata": {},
   "outputs": [],
   "source": [
    "loc = \"COE.xls\""
   ]
  },
  {
   "cell_type": "markdown",
   "metadata": {},
   "source": [
    "## Cleaning up Downloaded Spreadsheet Files"
   ]
  },
  {
   "cell_type": "code",
   "execution_count": 3,
   "metadata": {},
   "outputs": [],
   "source": [
    "Excel_file = pd.ExcelFile(loc)"
   ]
  },
  {
   "cell_type": "code",
   "execution_count": 41,
   "metadata": {},
   "outputs": [
    {
     "name": "stdout",
     "output_type": "stream",
     "text": [
      "['COE data']\n"
     ]
    }
   ],
   "source": [
    "print(Excel_file.sheet_names)"
   ]
  },
  {
   "cell_type": "code",
   "execution_count": 4,
   "metadata": {},
   "outputs": [],
   "source": [
    "spreadsheet = Excel_file.parse('COE data')"
   ]
  },
  {
   "cell_type": "code",
   "execution_count": 32,
   "metadata": {},
   "outputs": [
    {
     "name": "stdout",
     "output_type": "stream",
     "text": [
      "<class 'pandas.core.frame.DataFrame'>\n",
      "RangeIndex: 265 entries, 0 to 264\n",
      "Data columns (total 6 columns):\n",
      "DATE      265 non-null datetime64[ns]\n",
      "COE$      265 non-null float64\n",
      "COE$_1    265 non-null float64\n",
      "#Bids     265 non-null int64\n",
      "Quota     265 non-null int64\n",
      "Open?     265 non-null int64\n",
      "dtypes: datetime64[ns](1), float64(2), int64(3)\n",
      "memory usage: 12.5 KB\n"
     ]
    }
   ],
   "source": [
    "spreadsheet.info()"
   ]
  },
  {
   "cell_type": "markdown",
   "metadata": {},
   "source": [
    "我们看到电子表格包含六列，有265行（条目）。第一栏包含COE拍卖的日期，其余各栏为其他五个变量。变量COE$包含权利证书的历史价格。我们将把它作为我们的目标变量，并把它存储在一个名为data的对象中。"
   ]
  },
  {
   "cell_type": "code",
   "execution_count": 5,
   "metadata": {},
   "outputs": [
    {
     "name": "stdout",
     "output_type": "stream",
     "text": [
      "0     7400.0\n",
      "1    11100.0\n",
      "2     5002.0\n",
      "3     3170.0\n",
      "4     3410.0\n",
      "Name: COE$, dtype: float64\n"
     ]
    }
   ],
   "source": [
    "data = spreadsheet['COE$']\n",
    "print(data.head())"
   ]
  },
  {
   "cell_type": "markdown",
   "metadata": {},
   "source": [
    "## Adjusting Dates\n"
   ]
  },
  {
   "cell_type": "code",
   "execution_count": 43,
   "metadata": {},
   "outputs": [
    {
     "name": "stdout",
     "output_type": "stream",
     "text": [
      "193   2004-02-01\n",
      "194   2002-02-15\n",
      "195   2004-03-01\n",
      "196   2004-03-15\n",
      "197   2004-04-01\n",
      "198   2002-04-15\n",
      "199   2004-05-01\n",
      "200   2004-05-15\n",
      "201   2004-06-01\n",
      "202   2002-06-15\n",
      "203   2004-07-01\n",
      "Name: DATE, dtype: datetime64[ns]\n"
     ]
    }
   ],
   "source": [
    "print(spreadsheet['DATE'][193:204])"
   ]
  },
  {
   "cell_type": "code",
   "execution_count": 44,
   "metadata": {},
   "outputs": [],
   "source": [
    "spreadsheet.loc[194,'DATE']='2004-02-05'\n",
    "spreadsheet.loc[198,'DATE']='2004-04-15'\n",
    "spreadsheet.loc[202,'DATE']='2004-06-15'"
   ]
  },
  {
   "cell_type": "code",
   "execution_count": 45,
   "metadata": {},
   "outputs": [
    {
     "name": "stdout",
     "output_type": "stream",
     "text": [
      "193    2004-02-01 00:00:00\n",
      "194             2004-02-05\n",
      "195    2004-03-01 00:00:00\n",
      "196    2004-03-15 00:00:00\n",
      "197    2004-04-01 00:00:00\n",
      "198             2004-04-15\n",
      "199    2004-05-01 00:00:00\n",
      "200    2004-05-15 00:00:00\n",
      "201    2004-06-01 00:00:00\n",
      "202             2004-06-15\n",
      "203    2004-07-01 00:00:00\n",
      "Name: DATE, dtype: object\n"
     ]
    }
   ],
   "source": [
    "print(spreadsheet['DATE'][193:204])"
   ]
  },
  {
   "cell_type": "markdown",
   "metadata": {},
   "source": [
    "## Saving Data"
   ]
  },
  {
   "cell_type": "code",
   "execution_count": 46,
   "metadata": {},
   "outputs": [],
   "source": [
    "spreadsheet.to_csv('update_COE.csv')"
   ]
  },
  {
   "cell_type": "markdown",
   "metadata": {},
   "source": [
    "神经元的任务是对输入信号进行加权和，并在将输出传给下一层之前应用激活函数。所以，我们看到，输入层将数据传递给第一个隐藏层。隐藏层神经元对输入层神经元传递给他们的信息进行求和；输出层神经元对隐藏层神经元传递给他们的加权信息进行求和。\n",
    "## How to Scale the Input attributes\n",
    "深度神经网络对输入数据的尺度很敏感，特别是在使用sigmoid（见第38页）或tanh（见第44页）激活函数时。最好的做法是将数据重新标定到-1到+1或0到1的范围内，这可以通过sklearn模块中的MinMaxScaler方法实现。"
   ]
  },
  {
   "cell_type": "code",
   "execution_count": 6,
   "metadata": {},
   "outputs": [],
   "source": [
    "from sklearn import preprocessing"
   ]
  },
  {
   "cell_type": "code",
   "execution_count": 7,
   "metadata": {},
   "outputs": [],
   "source": [
    "x = data\n",
    "scaler = preprocessing.MinMaxScaler(feature_range=(0,1))\n",
    "# 第一行将价格数据传输到我们的属性变量x中，\n",
    "# 然后加载预处理模块，并使用MinMaxScaler与feature_range设置，\n",
    "# 将属性缩放到0到1的范围。对象缩放器，包含缩放数据所需的指令。"
   ]
  },
  {
   "cell_type": "code",
   "execution_count": 49,
   "metadata": {},
   "outputs": [
    {
     "data": {
      "text/plain": [
       "MinMaxScaler(copy=True, feature_range=(0, 1))"
      ]
     },
     "execution_count": 49,
     "metadata": {},
     "output_type": "execute_result"
    }
   ],
   "source": [
    "scaler"
   ]
  },
  {
   "cell_type": "markdown",
   "metadata": {},
   "source": [
    "这告诉我们scaler将把数据放大到0,1范围。请注意，复制=True是默认设置。如果输入已经是一个numpy数组，你可以将其设置为False，以执行原地行归一化，避免复制。但是，我们将其设置为True，因为x（和数据）是Pandas系列的。\n",
    "\n",
    "Pandas对于数据操作来说是很好的，但是对于我们的数值分析来说，我们需要使用一个numpy数组。"
   ]
  },
  {
   "cell_type": "code",
   "execution_count": 8,
   "metadata": {},
   "outputs": [],
   "source": [
    "x = np.array(x).reshape(( len(x), ))"
   ]
  },
  {
   "cell_type": "markdown",
   "metadata": {},
   "source": [
    "## Log Transform\n",
    "当处理总是取正值的时间序列时，我通常喜欢对数据进行对数转换。我想这源于我在建立计量经济学模型的日子里，应用对数转换有助于数据的标准化。总之，下面是如何做到这一点。"
   ]
  },
  {
   "cell_type": "code",
   "execution_count": 9,
   "metadata": {},
   "outputs": [],
   "source": [
    "x = np.log(x)"
   ]
  },
  {
   "cell_type": "markdown",
   "metadata": {},
   "source": [
    "## A Note on Data Shape\n",
    "为了将 x 缩放到 [0,1] 范围内，我们将它传递给 fit_transform 函数，并使用 scaler 中的指令。然而，我们需要将其作为一个二维数组传递。reshape函数是实现这一目标的一个简单方法"
   ]
  },
  {
   "cell_type": "code",
   "execution_count": 10,
   "metadata": {},
   "outputs": [
    {
     "data": {
      "text/plain": [
       "(265,)"
      ]
     },
     "execution_count": 10,
     "metadata": {},
     "output_type": "execute_result"
    }
   ],
   "source": [
    "x.shape"
   ]
  },
  {
   "cell_type": "code",
   "execution_count": 11,
   "metadata": {},
   "outputs": [],
   "source": [
    "x = x.reshape(-1,1)"
   ]
  },
  {
   "cell_type": "code",
   "execution_count": 12,
   "metadata": {},
   "outputs": [
    {
     "data": {
      "text/plain": [
       "(265, 1)"
      ]
     },
     "execution_count": 12,
     "metadata": {},
     "output_type": "execute_result"
    }
   ],
   "source": [
    "# 现在用一对整数来描述形状，其中数字表示相应数组维度的长度。\n",
    "x.shape"
   ]
  },
  {
   "cell_type": "markdown",
   "metadata": {},
   "source": [
    "## Scale x"
   ]
  },
  {
   "cell_type": "code",
   "execution_count": 13,
   "metadata": {},
   "outputs": [
    {
     "data": {
      "text/plain": [
       "(265,)"
      ]
     },
     "execution_count": 13,
     "metadata": {},
     "output_type": "execute_result"
    }
   ],
   "source": [
    "x = scaler.fit_transform(x)\n",
    "# 函数fit_transform将数值缩放到0-1的范围。现在，我们将缩放后的x值转换回原来的形状。\n",
    "x = x.reshape(-1)\n",
    "x.shape"
   ]
  },
  {
   "cell_type": "code",
   "execution_count": 16,
   "metadata": {},
   "outputs": [
    {
     "data": {
      "text/plain": [
       "0.0"
      ]
     },
     "execution_count": 16,
     "metadata": {},
     "output_type": "execute_result"
    }
   ],
   "source": [
    "round(x.min(),2)"
   ]
  },
  {
   "cell_type": "code",
   "execution_count": 15,
   "metadata": {},
   "outputs": [
    {
     "data": {
      "text/plain": [
       "1.0"
      ]
     },
     "execution_count": 15,
     "metadata": {},
     "output_type": "execute_result"
    }
   ],
   "source": [
    "round(x.max(),2)"
   ]
  },
  {
   "cell_type": "markdown",
   "metadata": {},
   "source": [
    "## Assessing Partial Autocorrelation\n",
    "现在，数据的比例已经适当，我们需要确定在我们的模型中包含多少过去的观测值。一个简单的方法是使用部分自相关。部分自相关函数(PACF)直接测量一个观测值与相隔n个时间步的观测值的相关性。\n",
    "局部自相关是指一个观测值$x_t$与自身滞后的观测值（比如说$x_{t-k}$）之间的相关量，它不能被中间的观测值的相关性所解释。例如，如果$x_t$是在时间t上测量的时间序列观测值，那么$x_t$和$x_{t-3}$之间的部分自相关是指$x_t$和$x_{t-3}$之间的相关性不能被它们与$x_{t-1}$和$x_{t-2}$的共同相关性所解释的量。\n",
    "## Working the statsmodels library\n",
    "\n",
    "PACF通过去除中间的相关性来衡量$x_t$和$x_{t-k}$之间的相关性。"
   ]
  },
  {
   "cell_type": "code",
   "execution_count": 19,
   "metadata": {},
   "outputs": [
    {
     "ename": "ModuleNotFoundError",
     "evalue": "No module named 'statemodels'",
     "output_type": "error",
     "traceback": [
      "\u001b[0;31m---------------------------------------------------------------------------\u001b[0m",
      "\u001b[0;31mModuleNotFoundError\u001b[0m                       Traceback (most recent call last)",
      "\u001b[0;32m<ipython-input-19-5970b6016f8d>\u001b[0m in \u001b[0;36m<module>\u001b[0;34m\u001b[0m\n\u001b[0;32m----> 1\u001b[0;31m \u001b[0;32mfrom\u001b[0m \u001b[0mstatemodels\u001b[0m\u001b[0;34m.\u001b[0m\u001b[0mtsa\u001b[0m\u001b[0;34m.\u001b[0m\u001b[0mstattools\u001b[0m \u001b[0;32mimport\u001b[0m \u001b[0mpacf\u001b[0m\u001b[0;34m\u001b[0m\u001b[0;34m\u001b[0m\u001b[0m\n\u001b[0m\u001b[1;32m      2\u001b[0m \u001b[0mx_pacf\u001b[0m \u001b[0;34m=\u001b[0m \u001b[0mpacf\u001b[0m\u001b[0;34m(\u001b[0m\u001b[0mx\u001b[0m\u001b[0;34m,\u001b[0m \u001b[0mnlags\u001b[0m\u001b[0;34m=\u001b[0m\u001b[0;36m5\u001b[0m\u001b[0;34m,\u001b[0m \u001b[0mmethod\u001b[0m\u001b[0;34m=\u001b[0m\u001b[0;34m'ols'\u001b[0m\u001b[0;34m)\u001b[0m\u001b[0;34m\u001b[0m\u001b[0;34m\u001b[0m\u001b[0m\n\u001b[1;32m      3\u001b[0m \u001b[0mx_pacf\u001b[0m\u001b[0;34m\u001b[0m\u001b[0;34m\u001b[0m\u001b[0m\n",
      "\u001b[0;31mModuleNotFoundError\u001b[0m: No module named 'statemodels'"
     ]
    }
   ],
   "source": [
    "from statemodels.tsa.stattools import pacf\n",
    "x_pacf = pacf(x, nlags=5, method='ols')\n",
    "x_pacf"
   ]
  },
  {
   "cell_type": "markdown",
   "metadata": {},
   "source": [
    "## A Neural Network Architecture for Time Series Forecasting\n",
    "nnet-ts库提供了一个明确设计用于时间序列预测的神经网络架构。我们的目标是开发一个能够预测下一个COE价格的模型，准确度在±$1,500以内。我们将这个范围称为预测舒适区间（CI）。"
   ]
  },
  {
   "cell_type": "code",
   "execution_count": 24,
   "metadata": {},
   "outputs": [
    {
     "name": "stderr",
     "output_type": "stream",
     "text": [
      "/home/twr/anaconda3/lib/python3.7/site-packages/nnet_ts/TimeSeriesNnet.py:29: RuntimeWarning: divide by zero encountered in log\n",
      "  self.y = np.log(self.timeseries[self.lag:])\n",
      "INFO:Building regressor matrix\n",
      "INFO:Scaling data\n",
      "INFO:Checking network consistency\n",
      "INFO:Training neural net\n",
      "/home/twr/anaconda3/lib/python3.7/site-packages/nnet_ts/TimeSeriesNnet.py:60: UserWarning: The `nb_epoch` argument in `fit` has been renamed `epochs`.\n",
      "  self.nn.fit(self.X, self.y, nb_epoch = self.epochs, verbose = self.verbose)\n",
      "/home/twr/anaconda3/lib/python3.7/site-packages/nnet_ts/TimeSeriesNnet.py:29: RuntimeWarning: divide by zero encountered in log\n",
      "  self.y = np.log(self.timeseries[self.lag:])\n",
      "INFO:Building regressor matrix\n",
      "INFO:Scaling data\n",
      "INFO:Checking network consistency\n",
      "INFO:Training neural net\n"
     ]
    },
    {
     "name": "stdout",
     "output_type": "stream",
     "text": [
      "Obs: 1,x= 0.4303, prediction=0    0.5118\n",
      "dtype: float64\n"
     ]
    },
    {
     "name": "stderr",
     "output_type": "stream",
     "text": [
      "/home/twr/anaconda3/lib/python3.7/site-packages/nnet_ts/TimeSeriesNnet.py:60: UserWarning: The `nb_epoch` argument in `fit` has been renamed `epochs`.\n",
      "  self.nn.fit(self.X, self.y, nb_epoch = self.epochs, verbose = self.verbose)\n",
      "/home/twr/anaconda3/lib/python3.7/site-packages/nnet_ts/TimeSeriesNnet.py:29: RuntimeWarning: divide by zero encountered in log\n",
      "  self.y = np.log(self.timeseries[self.lag:])\n",
      "INFO:Building regressor matrix\n",
      "INFO:Scaling data\n",
      "INFO:Checking network consistency\n",
      "INFO:Training neural net\n"
     ]
    },
    {
     "name": "stdout",
     "output_type": "stream",
     "text": [
      "Obs: 2,x= 0.5174, prediction=0    0.5122\n",
      "dtype: float64\n"
     ]
    },
    {
     "name": "stderr",
     "output_type": "stream",
     "text": [
      "/home/twr/anaconda3/lib/python3.7/site-packages/nnet_ts/TimeSeriesNnet.py:60: UserWarning: The `nb_epoch` argument in `fit` has been renamed `epochs`.\n",
      "  self.nn.fit(self.X, self.y, nb_epoch = self.epochs, verbose = self.verbose)\n",
      "/home/twr/anaconda3/lib/python3.7/site-packages/nnet_ts/TimeSeriesNnet.py:29: RuntimeWarning: divide by zero encountered in log\n",
      "  self.y = np.log(self.timeseries[self.lag:])\n",
      "INFO:Building regressor matrix\n",
      "INFO:Scaling data\n",
      "INFO:Checking network consistency\n",
      "INFO:Training neural net\n"
     ]
    },
    {
     "name": "stdout",
     "output_type": "stream",
     "text": [
      "Obs: 3,x= 0.3462, prediction=0    0.5454\n",
      "dtype: float64\n"
     ]
    },
    {
     "name": "stderr",
     "output_type": "stream",
     "text": [
      "/home/twr/anaconda3/lib/python3.7/site-packages/nnet_ts/TimeSeriesNnet.py:60: UserWarning: The `nb_epoch` argument in `fit` has been renamed `epochs`.\n",
      "  self.nn.fit(self.X, self.y, nb_epoch = self.epochs, verbose = self.verbose)\n",
      "/home/twr/anaconda3/lib/python3.7/site-packages/nnet_ts/TimeSeriesNnet.py:29: RuntimeWarning: divide by zero encountered in log\n",
      "  self.y = np.log(self.timeseries[self.lag:])\n",
      "INFO:Building regressor matrix\n",
      "INFO:Scaling data\n",
      "INFO:Checking network consistency\n",
      "INFO:Training neural net\n"
     ]
    },
    {
     "name": "stdout",
     "output_type": "stream",
     "text": [
      "Obs: 4,x= 0.2482, prediction=0    0.5603\n",
      "dtype: float64\n"
     ]
    },
    {
     "name": "stderr",
     "output_type": "stream",
     "text": [
      "/home/twr/anaconda3/lib/python3.7/site-packages/nnet_ts/TimeSeriesNnet.py:60: UserWarning: The `nb_epoch` argument in `fit` has been renamed `epochs`.\n",
      "  self.nn.fit(self.X, self.y, nb_epoch = self.epochs, verbose = self.verbose)\n",
      "/home/twr/anaconda3/lib/python3.7/site-packages/nnet_ts/TimeSeriesNnet.py:29: RuntimeWarning: divide by zero encountered in log\n",
      "  self.y = np.log(self.timeseries[self.lag:])\n",
      "INFO:Building regressor matrix\n",
      "INFO:Scaling data\n",
      "INFO:Checking network consistency\n",
      "INFO:Training neural net\n"
     ]
    },
    {
     "name": "stdout",
     "output_type": "stream",
     "text": [
      "Obs: 5,x= 0.2639, prediction=0    0.5841\n",
      "dtype: float64\n"
     ]
    },
    {
     "name": "stderr",
     "output_type": "stream",
     "text": [
      "/home/twr/anaconda3/lib/python3.7/site-packages/nnet_ts/TimeSeriesNnet.py:60: UserWarning: The `nb_epoch` argument in `fit` has been renamed `epochs`.\n",
      "  self.nn.fit(self.X, self.y, nb_epoch = self.epochs, verbose = self.verbose)\n",
      "/home/twr/anaconda3/lib/python3.7/site-packages/nnet_ts/TimeSeriesNnet.py:29: RuntimeWarning: divide by zero encountered in log\n",
      "  self.y = np.log(self.timeseries[self.lag:])\n",
      "INFO:Building regressor matrix\n",
      "INFO:Scaling data\n",
      "INFO:Checking network consistency\n",
      "INFO:Training neural net\n"
     ]
    },
    {
     "name": "stdout",
     "output_type": "stream",
     "text": [
      "Obs: 6,x= 0.1979, prediction=0    0.5706\n",
      "dtype: float64\n"
     ]
    },
    {
     "name": "stderr",
     "output_type": "stream",
     "text": [
      "/home/twr/anaconda3/lib/python3.7/site-packages/nnet_ts/TimeSeriesNnet.py:60: UserWarning: The `nb_epoch` argument in `fit` has been renamed `epochs`.\n",
      "  self.nn.fit(self.X, self.y, nb_epoch = self.epochs, verbose = self.verbose)\n",
      "/home/twr/anaconda3/lib/python3.7/site-packages/nnet_ts/TimeSeriesNnet.py:29: RuntimeWarning: divide by zero encountered in log\n",
      "  self.y = np.log(self.timeseries[self.lag:])\n",
      "INFO:Building regressor matrix\n",
      "INFO:Scaling data\n",
      "INFO:Checking network consistency\n",
      "INFO:Training neural net\n"
     ]
    },
    {
     "name": "stdout",
     "output_type": "stream",
     "text": [
      "Obs: 7,x= 0.0, prediction=0    0.5293\n",
      "dtype: float64\n"
     ]
    },
    {
     "name": "stderr",
     "output_type": "stream",
     "text": [
      "/home/twr/anaconda3/lib/python3.7/site-packages/nnet_ts/TimeSeriesNnet.py:60: UserWarning: The `nb_epoch` argument in `fit` has been renamed `epochs`.\n",
      "  self.nn.fit(self.X, self.y, nb_epoch = self.epochs, verbose = self.verbose)\n",
      "/home/twr/anaconda3/lib/python3.7/site-packages/nnet_ts/TimeSeriesNnet.py:29: RuntimeWarning: divide by zero encountered in log\n",
      "  self.y = np.log(self.timeseries[self.lag:])\n",
      "INFO:Building regressor matrix\n",
      "INFO:Scaling data\n",
      "INFO:Checking network consistency\n",
      "INFO:Training neural net\n"
     ]
    },
    {
     "name": "stdout",
     "output_type": "stream",
     "text": [
      "Obs: 8,x= 0.1064, prediction=0    0.5203\n",
      "dtype: float64\n"
     ]
    },
    {
     "name": "stderr",
     "output_type": "stream",
     "text": [
      "/home/twr/anaconda3/lib/python3.7/site-packages/nnet_ts/TimeSeriesNnet.py:60: UserWarning: The `nb_epoch` argument in `fit` has been renamed `epochs`.\n",
      "  self.nn.fit(self.X, self.y, nb_epoch = self.epochs, verbose = self.verbose)\n",
      "/home/twr/anaconda3/lib/python3.7/site-packages/nnet_ts/TimeSeriesNnet.py:29: RuntimeWarning: divide by zero encountered in log\n",
      "  self.y = np.log(self.timeseries[self.lag:])\n",
      "INFO:Building regressor matrix\n",
      "INFO:Scaling data\n",
      "INFO:Checking network consistency\n",
      "INFO:Training neural net\n"
     ]
    },
    {
     "name": "stdout",
     "output_type": "stream",
     "text": [
      "Obs: 9,x= 0.3875, prediction=0    0.5687\n",
      "dtype: float64\n"
     ]
    },
    {
     "name": "stderr",
     "output_type": "stream",
     "text": [
      "/home/twr/anaconda3/lib/python3.7/site-packages/nnet_ts/TimeSeriesNnet.py:60: UserWarning: The `nb_epoch` argument in `fit` has been renamed `epochs`.\n",
      "  self.nn.fit(self.X, self.y, nb_epoch = self.epochs, verbose = self.verbose)\n",
      "/home/twr/anaconda3/lib/python3.7/site-packages/nnet_ts/TimeSeriesNnet.py:29: RuntimeWarning: divide by zero encountered in log\n",
      "  self.y = np.log(self.timeseries[self.lag:])\n",
      "INFO:Building regressor matrix\n",
      "INFO:Scaling data\n",
      "INFO:Checking network consistency\n",
      "INFO:Training neural net\n"
     ]
    },
    {
     "name": "stdout",
     "output_type": "stream",
     "text": [
      "Obs: 10,x= 0.4726, prediction=0    0.5719\n",
      "dtype: float64\n"
     ]
    },
    {
     "name": "stderr",
     "output_type": "stream",
     "text": [
      "/home/twr/anaconda3/lib/python3.7/site-packages/nnet_ts/TimeSeriesNnet.py:60: UserWarning: The `nb_epoch` argument in `fit` has been renamed `epochs`.\n",
      "  self.nn.fit(self.X, self.y, nb_epoch = self.epochs, verbose = self.verbose)\n",
      "/home/twr/anaconda3/lib/python3.7/site-packages/nnet_ts/TimeSeriesNnet.py:29: RuntimeWarning: divide by zero encountered in log\n",
      "  self.y = np.log(self.timeseries[self.lag:])\n",
      "INFO:Building regressor matrix\n",
      "INFO:Scaling data\n",
      "INFO:Checking network consistency\n",
      "INFO:Training neural net\n"
     ]
    },
    {
     "name": "stdout",
     "output_type": "stream",
     "text": [
      "Obs: 11,x= 0.5188, prediction=0    0.5836\n",
      "dtype: float64\n"
     ]
    },
    {
     "name": "stderr",
     "output_type": "stream",
     "text": [
      "/home/twr/anaconda3/lib/python3.7/site-packages/nnet_ts/TimeSeriesNnet.py:60: UserWarning: The `nb_epoch` argument in `fit` has been renamed `epochs`.\n",
      "  self.nn.fit(self.X, self.y, nb_epoch = self.epochs, verbose = self.verbose)\n"
     ]
    },
    {
     "name": "stdout",
     "output_type": "stream",
     "text": [
      "Obs: 12,x= 0.5406, prediction=0    0.5741\n",
      "dtype: float64\n"
     ]
    }
   ],
   "source": [
    "from nnet_ts import *\n",
    "count = 0\n",
    "ahead = 12\n",
    "pred = []\n",
    "while (count < ahead):\n",
    "    end = len(x) - ahead + count\n",
    "    np.random.seed(2020)\n",
    "    fit1 = TimeSeriesNnet(hidden_layers=[7,3], \n",
    "                         activation_functions=[\"tanh\",\"tanh\"])\n",
    "    fit1.fit(x[0:end], lag=1, epochs=100)\n",
    "    out=fit1.predict_ahead(n_ahead=1)\n",
    "    print(\"Obs: {},x= {}, prediction={}\".format(count+1, \n",
    "                                                round(x[count],4), \n",
    "                                                round(pd.Series(out),4)))\n",
    "    pred.append(out)\n",
    "    count = count+1"
   ]
  },
  {
   "attachments": {},
   "cell_type": "markdown",
   "metadata": {},
   "source": [
    "- 该模型称为fit1，包含两个隐藏层。第一个隐藏层包含7个节点，第二个隐藏层包含3个节点。两个层都使用tanh激活函数。\n",
    "- 在每次迭代时，模型都会通过fit函数与数据进行一个时间步长的拟合。\n",
    "- 之后是用于计算预测的预测方法。参数n_ahead被设置为1，以产生1个时间步长的预测。\n",
    "- 最后，在每次迭代时的预测，存储在对象的 出，被附加到pred。\n",
    "\n",
    "## Realized and Predicted Values\n",
    "所示的预测是存储在Python对象x中的归一化COE价格序列的一次提前预测。要将它们转换回原来的比例，使用inverse_transform函数，然后取指数。"
   ]
  },
  {
   "cell_type": "code",
   "execution_count": 25,
   "metadata": {},
   "outputs": [
    {
     "data": {
      "text/plain": [
       "array([[0.5],\n",
       "       [0.5],\n",
       "       [0.5],\n",
       "       [0.6],\n",
       "       [0.6],\n",
       "       [0.6],\n",
       "       [0.5],\n",
       "       [0.5],\n",
       "       [0.6],\n",
       "       [0.6],\n",
       "       [0.6],\n",
       "       [0.6]])"
      ]
     },
     "execution_count": 25,
     "metadata": {},
     "output_type": "execute_result"
    }
   ],
   "source": [
    "pred1=scaler.inverse_transform(pred)\n",
    "pred1=np.exp(pred1)\n",
    "np.round(pred,1)"
   ]
  },
  {
   "cell_type": "code",
   "execution_count": 29,
   "metadata": {},
   "outputs": [
    {
     "data": {
      "text/plain": [
       "<matplotlib.legend.Legend at 0x7f79b9f88850>"
      ]
     },
     "execution_count": 29,
     "metadata": {},
     "output_type": "execute_result"
    },
    {
     "name": "stderr",
     "output_type": "stream",
     "text": [
      "DEBUG:update_title_pos\n",
      "DEBUG:update_title_pos\n",
      "DEBUG:update_title_pos\n",
      "DEBUG:update_title_pos\n",
      "DEBUG:update_title_pos\n"
     ]
    },
    {
     "data": {
      "image/png": "[encoded data removed]",
      "text/plain": [
       "<Figure size 432x288 with 1 Axes>"
      ]
     },
     "metadata": {
      "needs_background": "light"
     },
     "output_type": "display_data"
    }
   ],
   "source": [
    "import matplotlib.pyplot as plt\n",
    "target = np.exp(scaler.inverse_transform(x[-ahead:].reshape(-1,1)))\n",
    "plt.plot(target)\n",
    "plt.plot(pred1)\n",
    "plt.legend(['target','prediction'])"
   ]
  }
 ],
 "metadata": {
  "kernelspec": {
   "display_name": "Python 3",
   "language": "python",
   "name": "python3"
  },
  "language_info": {
   "codemirror_mode": {
    "name": "ipython",
    "version": 3
   },
   "file_extension": ".py",
   "mimetype": "text/x-python",
   "name": "python",
   "nbconvert_exporter": "python",
   "pygments_lexer": "ipython3",
   "version": "3.7.7"
  }
 },
 "nbformat": 4,
 "nbformat_minor": 2
}
